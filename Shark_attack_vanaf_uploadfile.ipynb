{
  "nbformat": 4,
  "nbformat_minor": 0,
  "metadata": {
    "colab": {
      "provenance": [],
      "authorship_tag": "ABX9TyPaemCbnl7QDwmyNzsa057M",
      "include_colab_link": true
    },
    "kernelspec": {
      "name": "python3",
      "display_name": "Python 3"
    },
    "language_info": {
      "name": "python"
    }
  },
  "cells": [
    {
      "cell_type": "markdown",
      "metadata": {
        "id": "view-in-github",
        "colab_type": "text"
      },
      "source": [
        "<a href=\"https://colab.research.google.com/github/gebakkenAardappel/WINC/blob/main/Shark_attack_vanaf_uploadfile.ipynb\" target=\"_parent\"><img src=\"https://colab.research.google.com/assets/colab-badge.svg\" alt=\"Open In Colab\"/></a>"
      ]
    },
    {
      "cell_type": "code",
      "execution_count": 1,
      "metadata": {
        "id": "BOHS33T7vuUh"
      },
      "outputs": [],
      "source": [
        "import pandas as pd\n",
        "import numpy as np\n",
        "import matplotlib.pyplot as plt"
      ]
    },
    {
      "cell_type": "code",
      "source": [
        "df=pd.read_csv(\"shark_attack.csv\",sep=\",\")\n",
        "#df"
      ],
      "metadata": {
        "id": "zdXGsy3jv2F0"
      },
      "execution_count": 2,
      "outputs": []
    },
    {
      "cell_type": "code",
      "source": [
        "%load_ext google.colab.data_table"
      ],
      "metadata": {
        "id": "DqDhcDSUxDp9"
      },
      "execution_count": 3,
      "outputs": []
    },
    {
      "cell_type": "markdown",
      "source": [
        "# Relevante kolommen behouden"
      ],
      "metadata": {
        "id": "idCOxa2oxI0C"
      }
    },
    {
      "cell_type": "code",
      "source": [
        "#kolommen die niet gebruikt gaan worden verwijderen. Bewaren: 'Activity','Type', 'Age', 'Injury', 'Fatal (Y/N)',Species\n",
        "df1=df.drop(columns=['Unnamed: 0','Case Number','Sex ','Date', 'Year', 'Country', 'Area', 'Name','Time', 'Location', 'Investigator or Source','pdf', 'href formula', 'href', 'Case Number.1', 'Case Number.2', 'original order', 'Unnamed: 22', 'Unnamed: 23' ])\n",
        "# alle compleet lege rijen verwijderen\n",
        "df1.dropna(how=\"all\",inplace=True)\n",
        "df1.head(2)"
      ],
      "metadata": {
        "id": "vWnHff6exDcf"
      },
      "execution_count": null,
      "outputs": []
    },
    {
      "cell_type": "markdown",
      "source": [
        "# Zoek non-default missing values\n",
        "\n"
      ],
      "metadata": {
        "id": "L42-51B1xz6k"
      }
    },
    {
      "cell_type": "code",
      "source": [
        "# 4 functies: cast_to_type(), unieke_waardes(), frequentie() en randwaardes()\n",
        "# tegelijk aanroepen via bekijk_dataoverzicht()\n",
        "\n",
        "def cast_to_type(df,column_name,maybe_type):\n",
        "  df_column=df[column_name]\n",
        "  try:\n",
        "    df_column.astype(maybe_type)\n",
        "    print(f\"casting to type {maybe_type} succesful\")\n",
        "  except ValueError as error:\n",
        "    print(f\"could not cast to {maybe_type} : error\")\n",
        "\n",
        "\n",
        "def unieke_waardes(df,column_name):\n",
        "  df_column=df[column_name]\n",
        "  getoond=10\n",
        "  unieke_waarden=df_column.unique()\n",
        "  aantal_uniek=len(unieke_waarden)\n",
        "  \n",
        "  if aantal_uniek==len(df_column):\n",
        "    print(f\"alle waardes zijn uniek\")\n",
        "  elif aantal_uniek<getoond:\n",
        "    print(f\"minder dan {getoond} waardes zijn uniek\") \n",
        "    try:\n",
        "      sorted = np.sort(unieke_waarden)    # sorteer lijst en print.              \n",
        "      print(\"Values are sorted\")                                                 \n",
        "      display(list(sorted))\n",
        "    except:\n",
        "      print(\"Could not sort values\")      # indien onsorteerbaar print ongesorteerde lijst\n",
        "      display(list(unieke_waarden))       \n",
        "  else:\n",
        "    print(f\"{aantal_uniek} van de {len(df_column)} waarden zijn uniek\")\n",
        "  \n",
        "\n",
        "def randwaardes(df,column_name): \n",
        "  df_column=df[column_name] \n",
        "  print(f\"kop_staart\" )\n",
        "  toon=10\n",
        "  def kop_staart(sorted):                         # inner-functie aanroepen na wel/niet verwijderen nul waardes       \n",
        "    display(f\"eerste {toon}:{list(sorted[:toon])}\")\n",
        "    display(f\"laatste {toon}: {list(sorted[-toon:])}\")\n",
        "  try:\n",
        "    sorted=np.sort(df_column.unique())            #unieke waardes sorteren\n",
        "    kop_staart(sorted)\n",
        "  except TypeError as error:\n",
        "    print(\"onsorteerbare lijst. Nul waardes zijn verwijderd\")\n",
        "    niet_nul_uniek = df.loc[~df[column_name].isnull(), column_name].unique()    #en dus niet   \"niet_nul_uniek=(~df_column.isnull())\"\"\n",
        "    sorted=np.sort(niet_nul_uniek)\n",
        "    kop_staart(sorted)\n",
        "\n",
        "\n",
        "def frequentie(df,column_name):\n",
        "  df_column=df[column_name]\n",
        "  print(f\"frequenties: \")\n",
        "  display(df_column.value_counts(dropna=False))  # toon nan waardes ook\n",
        "\n",
        "\n",
        "def bekijk_dataoverzicht(df,column_name,maybe_type):\n",
        "  print(20*'-', column_name , 20*'-')\n",
        "  cast_to_type(df,column_name,maybe_type)\n",
        "  print(40*\"-\")\n",
        "  unieke_waardes(df,column_name)\n",
        "  print(40*\"-\")\n",
        "  randwaardes(df,column_name)\n",
        "  print(40*\"-\")\n",
        "  frequentie(df,column_name)"
      ],
      "metadata": {
        "id": "IOXwxDSCxDOX"
      },
      "execution_count": 5,
      "outputs": []
    },
    {
      "cell_type": "code",
      "source": [
        "df1.dropna(subset=[\"Species \"],inplace=True)  # alleen als er een haai betrokken is data bekijken"
      ],
      "metadata": {
        "id": "Q4CqK0NCyFfm"
      },
      "execution_count": 6,
      "outputs": []
    },
    {
      "cell_type": "markdown",
      "source": [
        "# Species kolom opschonen"
      ],
      "metadata": {
        "id": "yH9Yjwqcyg19"
      }
    },
    {
      "cell_type": "code",
      "source": [
        "# ongeldige waardes of niet bevestigde betrokkenheid van haaien vervangen door nan\n",
        "df1.loc[df1[\"Species \"]==\"Shark involvement prior to death was not confirmed\", \"Species \"]=np.nan\n",
        "df1.loc[df1[\"Species \"]==\"Shark involvement not confirmed\", \"Species \"]=np.nan\n",
        "df1.loc[df1[\"Species \"]==\"Shark involvement prior to death unconfirmed\", \"Species \"]=np.nan\n",
        "df1.loc[df1[\"Species \"]== \"Questionable\", \"Species \"]=np.nan\n",
        "df1.loc[df1[\"Species \"]==\"Invalid \" , \"Species \"]=np.nan\n",
        "df1.loc[df1[\"Species \"]==\"Invalid\" , \"Species \"]=np.nan"
      ],
      "metadata": {
        "id": "g3LJEwyZyMW5"
      },
      "execution_count": 7,
      "outputs": []
    },
    {
      "cell_type": "code",
      "source": [
        "# Species: sommige species zijn genoemd binnen zin: aanwezigheid soortnaam bepalen en zin aanpassen. Alles lowercase.\n",
        "# Omdat een mask niet kan als er nan inzitten, deze eruit filteren :  (bevat white & niet-nan) in kolom Species -> wordt ....\n",
        "\n",
        "totaal=[\"tiger\",\"bull\",\"blue pointer\",\"white\",\"whaler\",\"blacktip\",\"grey nurse\",\"lemon\",\"hammerhead\",\"cat\",\"gummy\",\"dusky\",\"galapagos\",\"raggedtooth\",\"sandbar\",\"sevengill\",\n",
        "       \"tawney\",\"wobbegong\",\"reef\",\"brown\", \"pack\",\"blue nose\",\"dog\",\"nurse\",\"spinner\",\"goblin\",\"leopard\",\"shark\",\"sharks\"]\n",
        "soortnamen=[\"tiger\",\"bull\",\"blue pointer\",\"white\",\"whaler\",\"blacktip\",\"grey nurse\",\"lemon\",\"hammerhead\",\"cat\",\"gummy\",\"dusky\",\"galapagos\",\"raggedtooth\",\"sandbar\",\"sevengill\",\n",
        "       \"tawney\",\"wobbegong\",\"reef\",\"brown\", \"pack\",\"blue nose\",\"dog\",\"nurse\",\"spinner\",\"goblin\",\"leopard\"]\n",
        "\n",
        "for naam in totaal:\n",
        "  if (naam in soortnamen):  \n",
        "    nieuwe_naam=\"\"+naam    #print(nieuwe_naam)  \n",
        "    df1.loc[(df1['Species '].str.lower().str.contains(naam)) & (~df1[\"Species \"].isna()),   \"Species \"]= f\"{nieuwe_naam}\"\n",
        "  else:  # shark zit nu natuurlijk wel in alle namen als ik dat hierboven gelijk zou toevoegen\n",
        "    df1.loc[(df1['Species '].str.lower().str.contains(naam)) & (~df1[\"Species \"].isna()),   \"Species \"]= \"unknown\"  #print(nieuwe_naam) \n",
        "\n",
        "for naam in totaal:\n",
        "  if(naam in soortnamen):\n",
        "    df1.loc[(df1['Species '].str.lower().str.contains(naam)) & (~df1[\"Species \"].isna()), \"Species \"]=f\"{naam} shark\"\n",
        "\n",
        "df1.loc[df1[\"Species \"]==\"Unidentified species\" , \"Species \"]=\"unknown\"\n",
        "df1.head(2)"
      ],
      "metadata": {
        "colab": {
          "base_uri": "https://localhost:8080/",
          "height": 135
        },
        "id": "UG7atXzmymaS",
        "outputId": "2cf5f3da-beb1-404e-a23d-366afa73f131"
      },
      "execution_count": 8,
      "outputs": [
        {
          "output_type": "execute_result",
          "data": {
            "text/plain": [
              "         Type  Activity  Age  \\\n",
              "0     Boating  Paddling   57   \n",
              "3  Unprovoked   Surfing  NaN   \n",
              "\n",
              "                                              Injury Fatal (Y/N)     Species   \n",
              "0  No injury to occupant, outrigger canoe and pad...           N  white shark  \n",
              "3                          Minor injury to lower leg           N      unknown  "
            ],
            "text/html": [
              "\n",
              "  <div id=\"df-6b23d9a2-4628-4016-9a19-ba3603c2ce52\">\n",
              "    <div class=\"colab-df-container\">\n",
              "      <div>\n",
              "<style scoped>\n",
              "    .dataframe tbody tr th:only-of-type {\n",
              "        vertical-align: middle;\n",
              "    }\n",
              "\n",
              "    .dataframe tbody tr th {\n",
              "        vertical-align: top;\n",
              "    }\n",
              "\n",
              "    .dataframe thead th {\n",
              "        text-align: right;\n",
              "    }\n",
              "</style>\n",
              "<table border=\"1\" class=\"dataframe\">\n",
              "  <thead>\n",
              "    <tr style=\"text-align: right;\">\n",
              "      <th></th>\n",
              "      <th>Type</th>\n",
              "      <th>Activity</th>\n",
              "      <th>Age</th>\n",
              "      <th>Injury</th>\n",
              "      <th>Fatal (Y/N)</th>\n",
              "      <th>Species</th>\n",
              "    </tr>\n",
              "  </thead>\n",
              "  <tbody>\n",
              "    <tr>\n",
              "      <th>0</th>\n",
              "      <td>Boating</td>\n",
              "      <td>Paddling</td>\n",
              "      <td>57</td>\n",
              "      <td>No injury to occupant, outrigger canoe and pad...</td>\n",
              "      <td>N</td>\n",
              "      <td>white shark</td>\n",
              "    </tr>\n",
              "    <tr>\n",
              "      <th>3</th>\n",
              "      <td>Unprovoked</td>\n",
              "      <td>Surfing</td>\n",
              "      <td>NaN</td>\n",
              "      <td>Minor injury to lower leg</td>\n",
              "      <td>N</td>\n",
              "      <td>unknown</td>\n",
              "    </tr>\n",
              "  </tbody>\n",
              "</table>\n",
              "</div>\n",
              "      <button class=\"colab-df-convert\" onclick=\"convertToInteractive('df-6b23d9a2-4628-4016-9a19-ba3603c2ce52')\"\n",
              "              title=\"Convert this dataframe to an interactive table.\"\n",
              "              style=\"display:none;\">\n",
              "        \n",
              "  <svg xmlns=\"http://www.w3.org/2000/svg\" height=\"24px\"viewBox=\"0 0 24 24\"\n",
              "       width=\"24px\">\n",
              "    <path d=\"M0 0h24v24H0V0z\" fill=\"none\"/>\n",
              "    <path d=\"M18.56 5.44l.94 2.06.94-2.06 2.06-.94-2.06-.94-.94-2.06-.94 2.06-2.06.94zm-11 1L8.5 8.5l.94-2.06 2.06-.94-2.06-.94L8.5 2.5l-.94 2.06-2.06.94zm10 10l.94 2.06.94-2.06 2.06-.94-2.06-.94-.94-2.06-.94 2.06-2.06.94z\"/><path d=\"M17.41 7.96l-1.37-1.37c-.4-.4-.92-.59-1.43-.59-.52 0-1.04.2-1.43.59L10.3 9.45l-7.72 7.72c-.78.78-.78 2.05 0 2.83L4 21.41c.39.39.9.59 1.41.59.51 0 1.02-.2 1.41-.59l7.78-7.78 2.81-2.81c.8-.78.8-2.07 0-2.86zM5.41 20L4 18.59l7.72-7.72 1.47 1.35L5.41 20z\"/>\n",
              "  </svg>\n",
              "      </button>\n",
              "      \n",
              "  <style>\n",
              "    .colab-df-container {\n",
              "      display:flex;\n",
              "      flex-wrap:wrap;\n",
              "      gap: 12px;\n",
              "    }\n",
              "\n",
              "    .colab-df-convert {\n",
              "      background-color: #E8F0FE;\n",
              "      border: none;\n",
              "      border-radius: 50%;\n",
              "      cursor: pointer;\n",
              "      display: none;\n",
              "      fill: #1967D2;\n",
              "      height: 32px;\n",
              "      padding: 0 0 0 0;\n",
              "      width: 32px;\n",
              "    }\n",
              "\n",
              "    .colab-df-convert:hover {\n",
              "      background-color: #E2EBFA;\n",
              "      box-shadow: 0px 1px 2px rgba(60, 64, 67, 0.3), 0px 1px 3px 1px rgba(60, 64, 67, 0.15);\n",
              "      fill: #174EA6;\n",
              "    }\n",
              "\n",
              "    [theme=dark] .colab-df-convert {\n",
              "      background-color: #3B4455;\n",
              "      fill: #D2E3FC;\n",
              "    }\n",
              "\n",
              "    [theme=dark] .colab-df-convert:hover {\n",
              "      background-color: #434B5C;\n",
              "      box-shadow: 0px 1px 3px 1px rgba(0, 0, 0, 0.15);\n",
              "      filter: drop-shadow(0px 1px 2px rgba(0, 0, 0, 0.3));\n",
              "      fill: #FFFFFF;\n",
              "    }\n",
              "  </style>\n",
              "\n",
              "      <script>\n",
              "        const buttonEl =\n",
              "          document.querySelector('#df-6b23d9a2-4628-4016-9a19-ba3603c2ce52 button.colab-df-convert');\n",
              "        buttonEl.style.display =\n",
              "          google.colab.kernel.accessAllowed ? 'block' : 'none';\n",
              "\n",
              "        async function convertToInteractive(key) {\n",
              "          const element = document.querySelector('#df-6b23d9a2-4628-4016-9a19-ba3603c2ce52');\n",
              "          const dataTable =\n",
              "            await google.colab.kernel.invokeFunction('convertToInteractive',\n",
              "                                                     [key], {});\n",
              "          if (!dataTable) return;\n",
              "\n",
              "          const docLinkHtml = 'Like what you see? Visit the ' +\n",
              "            '<a target=\"_blank\" href=https://colab.research.google.com/notebooks/data_table.ipynb>data table notebook</a>'\n",
              "            + ' to learn more about interactive tables.';\n",
              "          element.innerHTML = '';\n",
              "          dataTable['output_type'] = 'display_data';\n",
              "          await google.colab.output.renderOutput(dataTable, element);\n",
              "          const docLink = document.createElement('div');\n",
              "          docLink.innerHTML = docLinkHtml;\n",
              "          element.appendChild(docLink);\n",
              "        }\n",
              "      </script>\n",
              "    </div>\n",
              "  </div>\n",
              "  "
            ],
            "application/vnd.google.colaboratory.module+javascript": "\n      import \"https://ssl.gstatic.com/colaboratory/data_table/99dac6621f6ae8c4/data_table.js\";\n\n      window.createDataTable({\n        data: [[{\n            'v': 0,\n            'f': \"0\",\n        },\n\"Boating\",\n\"Paddling\",\n\"57\",\n\"No injury to occupant, outrigger canoe and paddle damaged\",\n\"N\",\n\"white shark\"],\n [{\n            'v': 3,\n            'f': \"3\",\n        },\n\"Unprovoked\",\n\"Surfing\",\nNaN,\n\"Minor injury to lower leg\",\n\"N\",\n\"unknown\"]],\n        columns: [[\"number\", \"index\"], [\"string\", \"Type\"], [\"string\", \"Activity\"], [\"string\", \"Age\"], [\"string\", \"Injury\"], [\"string\", \"Fatal (Y/N)\"], [\"string\", \"Species \"]],\n        columnOptions: [{\"width\": \"1px\", \"className\": \"index_column\"}],\n        rowsPerPage: 25,\n        helpUrl: \"https://colab.research.google.com/notebooks/data_table.ipynb\",\n        suppressOutputScrolling: true,\n        minimumWidth: undefined,\n      });\n    "
          },
          "metadata": {},
          "execution_count": 8
        }
      ]
    },
    {
      "cell_type": "code",
      "source": [
        "#bekijk_dataoverzicht(df1 ,\"Species \",str)"
      ],
      "metadata": {
        "id": "MHZntQKd0F89"
      },
      "execution_count": 9,
      "outputs": []
    },
    {
      "cell_type": "markdown",
      "source": [
        "# Vraag: wat zijn de meest gevaarlijke haaien voor mensen\n"
      ],
      "metadata": {
        "id": "PxrWcP6z0N0c"
      }
    },
    {
      "cell_type": "code",
      "source": [
        "df2=df1.loc[:,[\"Species \",'Fatal (Y/N)']]\n",
        "df2.head(2)"
      ],
      "metadata": {
        "colab": {
          "base_uri": "https://localhost:8080/",
          "height": 135
        },
        "id": "dQsbfHcm-_GF",
        "outputId": "9722b9ba-13fc-4d98-9029-5b408022f91f"
      },
      "execution_count": 10,
      "outputs": [
        {
          "output_type": "execute_result",
          "data": {
            "text/plain": [
              "      Species  Fatal (Y/N)\n",
              "0  white shark           N\n",
              "3      unknown           N"
            ],
            "text/html": [
              "\n",
              "  <div id=\"df-3613c512-567e-4128-bdad-2179bcdd3b83\">\n",
              "    <div class=\"colab-df-container\">\n",
              "      <div>\n",
              "<style scoped>\n",
              "    .dataframe tbody tr th:only-of-type {\n",
              "        vertical-align: middle;\n",
              "    }\n",
              "\n",
              "    .dataframe tbody tr th {\n",
              "        vertical-align: top;\n",
              "    }\n",
              "\n",
              "    .dataframe thead th {\n",
              "        text-align: right;\n",
              "    }\n",
              "</style>\n",
              "<table border=\"1\" class=\"dataframe\">\n",
              "  <thead>\n",
              "    <tr style=\"text-align: right;\">\n",
              "      <th></th>\n",
              "      <th>Species</th>\n",
              "      <th>Fatal (Y/N)</th>\n",
              "    </tr>\n",
              "  </thead>\n",
              "  <tbody>\n",
              "    <tr>\n",
              "      <th>0</th>\n",
              "      <td>white shark</td>\n",
              "      <td>N</td>\n",
              "    </tr>\n",
              "    <tr>\n",
              "      <th>3</th>\n",
              "      <td>unknown</td>\n",
              "      <td>N</td>\n",
              "    </tr>\n",
              "  </tbody>\n",
              "</table>\n",
              "</div>\n",
              "      <button class=\"colab-df-convert\" onclick=\"convertToInteractive('df-3613c512-567e-4128-bdad-2179bcdd3b83')\"\n",
              "              title=\"Convert this dataframe to an interactive table.\"\n",
              "              style=\"display:none;\">\n",
              "        \n",
              "  <svg xmlns=\"http://www.w3.org/2000/svg\" height=\"24px\"viewBox=\"0 0 24 24\"\n",
              "       width=\"24px\">\n",
              "    <path d=\"M0 0h24v24H0V0z\" fill=\"none\"/>\n",
              "    <path d=\"M18.56 5.44l.94 2.06.94-2.06 2.06-.94-2.06-.94-.94-2.06-.94 2.06-2.06.94zm-11 1L8.5 8.5l.94-2.06 2.06-.94-2.06-.94L8.5 2.5l-.94 2.06-2.06.94zm10 10l.94 2.06.94-2.06 2.06-.94-2.06-.94-.94-2.06-.94 2.06-2.06.94z\"/><path d=\"M17.41 7.96l-1.37-1.37c-.4-.4-.92-.59-1.43-.59-.52 0-1.04.2-1.43.59L10.3 9.45l-7.72 7.72c-.78.78-.78 2.05 0 2.83L4 21.41c.39.39.9.59 1.41.59.51 0 1.02-.2 1.41-.59l7.78-7.78 2.81-2.81c.8-.78.8-2.07 0-2.86zM5.41 20L4 18.59l7.72-7.72 1.47 1.35L5.41 20z\"/>\n",
              "  </svg>\n",
              "      </button>\n",
              "      \n",
              "  <style>\n",
              "    .colab-df-container {\n",
              "      display:flex;\n",
              "      flex-wrap:wrap;\n",
              "      gap: 12px;\n",
              "    }\n",
              "\n",
              "    .colab-df-convert {\n",
              "      background-color: #E8F0FE;\n",
              "      border: none;\n",
              "      border-radius: 50%;\n",
              "      cursor: pointer;\n",
              "      display: none;\n",
              "      fill: #1967D2;\n",
              "      height: 32px;\n",
              "      padding: 0 0 0 0;\n",
              "      width: 32px;\n",
              "    }\n",
              "\n",
              "    .colab-df-convert:hover {\n",
              "      background-color: #E2EBFA;\n",
              "      box-shadow: 0px 1px 2px rgba(60, 64, 67, 0.3), 0px 1px 3px 1px rgba(60, 64, 67, 0.15);\n",
              "      fill: #174EA6;\n",
              "    }\n",
              "\n",
              "    [theme=dark] .colab-df-convert {\n",
              "      background-color: #3B4455;\n",
              "      fill: #D2E3FC;\n",
              "    }\n",
              "\n",
              "    [theme=dark] .colab-df-convert:hover {\n",
              "      background-color: #434B5C;\n",
              "      box-shadow: 0px 1px 3px 1px rgba(0, 0, 0, 0.15);\n",
              "      filter: drop-shadow(0px 1px 2px rgba(0, 0, 0, 0.3));\n",
              "      fill: #FFFFFF;\n",
              "    }\n",
              "  </style>\n",
              "\n",
              "      <script>\n",
              "        const buttonEl =\n",
              "          document.querySelector('#df-3613c512-567e-4128-bdad-2179bcdd3b83 button.colab-df-convert');\n",
              "        buttonEl.style.display =\n",
              "          google.colab.kernel.accessAllowed ? 'block' : 'none';\n",
              "\n",
              "        async function convertToInteractive(key) {\n",
              "          const element = document.querySelector('#df-3613c512-567e-4128-bdad-2179bcdd3b83');\n",
              "          const dataTable =\n",
              "            await google.colab.kernel.invokeFunction('convertToInteractive',\n",
              "                                                     [key], {});\n",
              "          if (!dataTable) return;\n",
              "\n",
              "          const docLinkHtml = 'Like what you see? Visit the ' +\n",
              "            '<a target=\"_blank\" href=https://colab.research.google.com/notebooks/data_table.ipynb>data table notebook</a>'\n",
              "            + ' to learn more about interactive tables.';\n",
              "          element.innerHTML = '';\n",
              "          dataTable['output_type'] = 'display_data';\n",
              "          await google.colab.output.renderOutput(dataTable, element);\n",
              "          const docLink = document.createElement('div');\n",
              "          docLink.innerHTML = docLinkHtml;\n",
              "          element.appendChild(docLink);\n",
              "        }\n",
              "      </script>\n",
              "    </div>\n",
              "  </div>\n",
              "  "
            ],
            "application/vnd.google.colaboratory.module+javascript": "\n      import \"https://ssl.gstatic.com/colaboratory/data_table/99dac6621f6ae8c4/data_table.js\";\n\n      window.createDataTable({\n        data: [[{\n            'v': 0,\n            'f': \"0\",\n        },\n\"white shark\",\n\"N\"],\n [{\n            'v': 3,\n            'f': \"3\",\n        },\n\"unknown\",\n\"N\"]],\n        columns: [[\"number\", \"index\"], [\"string\", \"Species \"], [\"string\", \"Fatal (Y/N)\"]],\n        columnOptions: [{\"width\": \"1px\", \"className\": \"index_column\"}],\n        rowsPerPage: 25,\n        helpUrl: \"https://colab.research.google.com/notebooks/data_table.ipynb\",\n        suppressOutputScrolling: true,\n        minimumWidth: undefined,\n      });\n    "
          },
          "metadata": {},
          "execution_count": 10
        }
      ]
    },
    {
      "cell_type": "code",
      "source": [
        "#selecteer de fatale aanvallen\n",
        "fatal=(df2['Fatal (Y/N)']=='Y') # geeft een boolean voor wel /niet fataal\n",
        "# df2: overzicht fatale aanvallen\n",
        "df2=df2.loc[fatal].copy()\n",
        "\n",
        "# meest frequent betrokken bij aanvallen\n",
        "df3=df2['Species '].value_counts(dropna=True)  \n",
        "# bovenstaande geeft een series. Deze omzetten naar frame:\n",
        "df3_attacks = df3.to_frame()                       \n",
        "df3_attacks.rename(columns={\"Species \":\"Number of fatal attacks\"}, inplace=True)\n",
        "df3_attacks[\"Species\"]=df3.index\n",
        "df3_attacks.reset_index(inplace=True, drop=True)\n",
        "df3_attacks.sort_values(by=[\"Number of fatal attacks\"], ascending=False)\n",
        "# verwijder data van onbekende soorten\n",
        "df3_attacks[\"Species\"].replace(\"unknown\",np.nan,inplace=True)\n",
        "df3_attacks.dropna(subset=[\"Species\"],inplace=True)\n",
        "\n",
        "# gebruik de meest relevante rijen \n",
        "attacks=df3_attacks.loc[:7,[\"Number of fatal attacks\",\"Species\"]]\n",
        "attacks.head(1)"
      ],
      "metadata": {
        "colab": {
          "base_uri": "https://localhost:8080/",
          "height": 114
        },
        "id": "2lP2qnfm0Tb0",
        "outputId": "e0fc29f0-c267-474e-c822-e506bc6fc99b"
      },
      "execution_count": 11,
      "outputs": [
        {
          "output_type": "execute_result",
          "data": {
            "text/plain": [
              "   Number of fatal attacks      Species\n",
              "0                      149  white shark"
            ],
            "text/html": [
              "\n",
              "  <div id=\"df-bfa1a87b-7a18-4870-9c23-a57b377f1bb6\">\n",
              "    <div class=\"colab-df-container\">\n",
              "      <div>\n",
              "<style scoped>\n",
              "    .dataframe tbody tr th:only-of-type {\n",
              "        vertical-align: middle;\n",
              "    }\n",
              "\n",
              "    .dataframe tbody tr th {\n",
              "        vertical-align: top;\n",
              "    }\n",
              "\n",
              "    .dataframe thead th {\n",
              "        text-align: right;\n",
              "    }\n",
              "</style>\n",
              "<table border=\"1\" class=\"dataframe\">\n",
              "  <thead>\n",
              "    <tr style=\"text-align: right;\">\n",
              "      <th></th>\n",
              "      <th>Number of fatal attacks</th>\n",
              "      <th>Species</th>\n",
              "    </tr>\n",
              "  </thead>\n",
              "  <tbody>\n",
              "    <tr>\n",
              "      <th>0</th>\n",
              "      <td>149</td>\n",
              "      <td>white shark</td>\n",
              "    </tr>\n",
              "  </tbody>\n",
              "</table>\n",
              "</div>\n",
              "      <button class=\"colab-df-convert\" onclick=\"convertToInteractive('df-bfa1a87b-7a18-4870-9c23-a57b377f1bb6')\"\n",
              "              title=\"Convert this dataframe to an interactive table.\"\n",
              "              style=\"display:none;\">\n",
              "        \n",
              "  <svg xmlns=\"http://www.w3.org/2000/svg\" height=\"24px\"viewBox=\"0 0 24 24\"\n",
              "       width=\"24px\">\n",
              "    <path d=\"M0 0h24v24H0V0z\" fill=\"none\"/>\n",
              "    <path d=\"M18.56 5.44l.94 2.06.94-2.06 2.06-.94-2.06-.94-.94-2.06-.94 2.06-2.06.94zm-11 1L8.5 8.5l.94-2.06 2.06-.94-2.06-.94L8.5 2.5l-.94 2.06-2.06.94zm10 10l.94 2.06.94-2.06 2.06-.94-2.06-.94-.94-2.06-.94 2.06-2.06.94z\"/><path d=\"M17.41 7.96l-1.37-1.37c-.4-.4-.92-.59-1.43-.59-.52 0-1.04.2-1.43.59L10.3 9.45l-7.72 7.72c-.78.78-.78 2.05 0 2.83L4 21.41c.39.39.9.59 1.41.59.51 0 1.02-.2 1.41-.59l7.78-7.78 2.81-2.81c.8-.78.8-2.07 0-2.86zM5.41 20L4 18.59l7.72-7.72 1.47 1.35L5.41 20z\"/>\n",
              "  </svg>\n",
              "      </button>\n",
              "      \n",
              "  <style>\n",
              "    .colab-df-container {\n",
              "      display:flex;\n",
              "      flex-wrap:wrap;\n",
              "      gap: 12px;\n",
              "    }\n",
              "\n",
              "    .colab-df-convert {\n",
              "      background-color: #E8F0FE;\n",
              "      border: none;\n",
              "      border-radius: 50%;\n",
              "      cursor: pointer;\n",
              "      display: none;\n",
              "      fill: #1967D2;\n",
              "      height: 32px;\n",
              "      padding: 0 0 0 0;\n",
              "      width: 32px;\n",
              "    }\n",
              "\n",
              "    .colab-df-convert:hover {\n",
              "      background-color: #E2EBFA;\n",
              "      box-shadow: 0px 1px 2px rgba(60, 64, 67, 0.3), 0px 1px 3px 1px rgba(60, 64, 67, 0.15);\n",
              "      fill: #174EA6;\n",
              "    }\n",
              "\n",
              "    [theme=dark] .colab-df-convert {\n",
              "      background-color: #3B4455;\n",
              "      fill: #D2E3FC;\n",
              "    }\n",
              "\n",
              "    [theme=dark] .colab-df-convert:hover {\n",
              "      background-color: #434B5C;\n",
              "      box-shadow: 0px 1px 3px 1px rgba(0, 0, 0, 0.15);\n",
              "      filter: drop-shadow(0px 1px 2px rgba(0, 0, 0, 0.3));\n",
              "      fill: #FFFFFF;\n",
              "    }\n",
              "  </style>\n",
              "\n",
              "      <script>\n",
              "        const buttonEl =\n",
              "          document.querySelector('#df-bfa1a87b-7a18-4870-9c23-a57b377f1bb6 button.colab-df-convert');\n",
              "        buttonEl.style.display =\n",
              "          google.colab.kernel.accessAllowed ? 'block' : 'none';\n",
              "\n",
              "        async function convertToInteractive(key) {\n",
              "          const element = document.querySelector('#df-bfa1a87b-7a18-4870-9c23-a57b377f1bb6');\n",
              "          const dataTable =\n",
              "            await google.colab.kernel.invokeFunction('convertToInteractive',\n",
              "                                                     [key], {});\n",
              "          if (!dataTable) return;\n",
              "\n",
              "          const docLinkHtml = 'Like what you see? Visit the ' +\n",
              "            '<a target=\"_blank\" href=https://colab.research.google.com/notebooks/data_table.ipynb>data table notebook</a>'\n",
              "            + ' to learn more about interactive tables.';\n",
              "          element.innerHTML = '';\n",
              "          dataTable['output_type'] = 'display_data';\n",
              "          await google.colab.output.renderOutput(dataTable, element);\n",
              "          const docLink = document.createElement('div');\n",
              "          docLink.innerHTML = docLinkHtml;\n",
              "          element.appendChild(docLink);\n",
              "        }\n",
              "      </script>\n",
              "    </div>\n",
              "  </div>\n",
              "  "
            ],
            "application/vnd.google.colaboratory.module+javascript": "\n      import \"https://ssl.gstatic.com/colaboratory/data_table/99dac6621f6ae8c4/data_table.js\";\n\n      window.createDataTable({\n        data: [[{\n            'v': 0,\n            'f': \"0\",\n        },\n{\n            'v': 149,\n            'f': \"149\",\n        },\n\"white shark\"]],\n        columns: [[\"number\", \"index\"], [\"number\", \"Number of fatal attacks\"], [\"string\", \"Species\"]],\n        columnOptions: [{\"width\": \"1px\", \"className\": \"index_column\"}],\n        rowsPerPage: 25,\n        helpUrl: \"https://colab.research.google.com/notebooks/data_table.ipynb\",\n        suppressOutputScrolling: true,\n        minimumWidth: undefined,\n      });\n    "
          },
          "metadata": {},
          "execution_count": 11
        }
      ]
    },
    {
      "cell_type": "code",
      "source": [
        "# andere manier van plotten voor alleen valuecounts zie onder bij def plot_valuecounts() \n",
        "\n",
        "def plot_data(df,xColumn,yColumn,yLabel,Title):\n",
        "  fig, ax = plt.subplots()     \n",
        "  x=df[xColumn]  \n",
        "  y=df[yColumn]  \n",
        "\n",
        "  ax.bar(x,y)\n",
        "  plt.xlabel(xColumn)\n",
        "  plt.ylabel(yLabel)\n",
        "  plt.title(Title)\n",
        "\n",
        "  fig.set_size_inches(15,3)\n",
        "  plt.show()"
      ],
      "metadata": {
        "id": "UgN6UrU-7HZs"
      },
      "execution_count": 12,
      "outputs": []
    },
    {
      "cell_type": "markdown",
      "source": [
        "# value_counts() rechtstreeks plotten\n",
        "\n",
        "\n"
      ],
      "metadata": {
        "id": "mcSK0CijMIng"
      }
    },
    {
      "cell_type": "code",
      "source": [
        "# descending:    df.kolomnaam.valuecounts().plot(kind=\"bar\")                           \n",
        "# ascending:     df.kolomnaam.value_counts().sort_values().plot(kind=\"bar\")                \n",
        "# hoogste 10:    df['kolomnaam'].value_counts(sort=True).nlargest(10).plot.bar()       \n",
        "\n",
        "def plot_valuecounts(df,kolomnaam,titel,y_label):\n",
        "\n",
        "  plt.xlabel(f\"{kolomnaam}\")\n",
        "  plt.ylabel(y_label)\n",
        "  plt.title(f\"{titel}\")\n",
        "  plt.rcParams[\"figure.figsize\"] = (2,5)\n",
        "  df[kolomnaam].value_counts().plot(kind=\"bar\")"
      ],
      "metadata": {
        "id": "Aob6GenhNHq5"
      },
      "execution_count": 13,
      "outputs": []
    },
    {
      "cell_type": "code",
      "source": [
        "plot_data(attacks,\"Species\",\"Number of fatal attacks\",\"Number of yearly fatal attacks\",\"Most dangerous sharks in terms of number of fatal attacks per year\")"
      ],
      "metadata": {
        "colab": {
          "base_uri": "https://localhost:8080/",
          "height": 241
        },
        "id": "qsUIjQUiT-sJ",
        "outputId": "b319487b-cbf2-4730-da6c-be0fb408f361"
      },
      "execution_count": 14,
      "outputs": [
        {
          "output_type": "display_data",
          "data": {
            "text/plain": [
              "<Figure size 1080x216 with 1 Axes>"
            ],
            "image/png": "[encoded data removed]"
          },
          "metadata": {
            "needs_background": "light"
          }
        }
      ]
    },
    {
      "cell_type": "markdown",
      "source": [
        "#Vraag: lopen kinderen meer risico om door een haai aangevallen te worden"
      ],
      "metadata": {
        "id": "LOjA3usJ06AT"
      }
    },
    {
      "cell_type": "code",
      "source": [
        "# kinderen: <18 jaar, volwassenen >=18 jaar. Of kinderen echt meer risico lopen weet je niet: aantal zwemmers etc. per groep is niet bekend\n",
        "#bekijk_dataoverzicht(df1 ,\"Age\",str)"
      ],
      "metadata": {
        "id": "eNzSq6z_XXpH"
      },
      "execution_count": 15,
      "outputs": []
    },
    {
      "cell_type": "code",
      "source": [
        "age_risk=df1.loc[:,[\"Age\",\"Fatal (Y/N)\"]]\n",
        "# vervang missing/incorrecte values door np.nan\n",
        "age_risk['Age'].replace(\"MAKE LINE GREEN\",np.nan,inplace=True)\n",
        "age_risk['Age'].replace(\"A.M.\",np.nan,inplace=True)\n",
        "age_risk['Age'].replace(\"F\",np.nan,inplace=True)\n",
        "age_risk['Age'].replace(\"X\",np.nan,inplace=True)\n",
        "age_risk['Age'].replace(\"Elderly\",\"adult\",inplace=True)\n",
        "age_risk.dropna(subset=[\"Age\"],inplace=True)\n",
        "\n",
        "# vervang middle-age, (adult), adult, mid-20,mid-30 etc. door \"adult\":\n",
        "adult=[\"(adult)\",\"middle-age\", \"adult\",\"mid-20\",\"mid-20s\",\"mid-30\",\"mid-30s\",\"Elderly\"]\n",
        "# jaartallen van 18-98 ook toevoegen aan de lijst:\n",
        "for i in range (80):\n",
        "  a=(i+18)\n",
        "  adult.append(str(a))\n",
        "\n",
        "for leeftijd in adult:\n",
        "  if leeftijd in adult:\n",
        "    age_risk.loc[ (age_risk[\"Age\"].str.lower().str.contains(leeftijd)) &( ~age_risk[\"Age\"].isna() ) , [\"Age\"]]= \"adults\"\n",
        "\n",
        "# de overige leeftijden behoren bij \"children\":\n",
        "age_risk.loc[age_risk[\"Age\"]!=\"adults\",\"Age\"]=\"children\"\n",
        "\n",
        "#bekijk_dataoverzicht(age_risk ,\"Age\",str)"
      ],
      "metadata": {
        "id": "3y8hMd1xY-8c"
      },
      "execution_count": null,
      "outputs": []
    },
    {
      "cell_type": "code",
      "source": [
        "risk=age_risk[\"Age\"].value_counts()\n",
        "risks=risk.to_frame()\n",
        "risks[\"index\"]=risk.index\n",
        "risks.rename(columns={\"level_0\":\"index\",\"Age\":\"Number of attacks\",\"index\":\"Age\"},inplace=True)\n",
        "risks.reset_index(inplace=True, drop=True)\n",
        "risks"
      ],
      "metadata": {
        "colab": {
          "base_uri": "https://localhost:8080/",
          "height": 135
        },
        "id": "2SvjtLK0wHq6",
        "outputId": "3d6d4a68-22f6-46e6-c396-0d734797b9e2"
      },
      "execution_count": 17,
      "outputs": [
        {
          "output_type": "execute_result",
          "data": {
            "text/plain": [
              "   Number of attacks       Age\n",
              "0               1679    adults\n",
              "1                513  children"
            ],
            "text/html": [
              "\n",
              "  <div id=\"df-eeba4488-2998-462b-9c74-6513617415d4\">\n",
              "    <div class=\"colab-df-container\">\n",
              "      <div>\n",
              "<style scoped>\n",
              "    .dataframe tbody tr th:only-of-type {\n",
              "        vertical-align: middle;\n",
              "    }\n",
              "\n",
              "    .dataframe tbody tr th {\n",
              "        vertical-align: top;\n",
              "    }\n",
              "\n",
              "    .dataframe thead th {\n",
              "        text-align: right;\n",
              "    }\n",
              "</style>\n",
              "<table border=\"1\" class=\"dataframe\">\n",
              "  <thead>\n",
              "    <tr style=\"text-align: right;\">\n",
              "      <th></th>\n",
              "      <th>Number of attacks</th>\n",
              "      <th>Age</th>\n",
              "    </tr>\n",
              "  </thead>\n",
              "  <tbody>\n",
              "    <tr>\n",
              "      <th>0</th>\n",
              "      <td>1679</td>\n",
              "      <td>adults</td>\n",
              "    </tr>\n",
              "    <tr>\n",
              "      <th>1</th>\n",
              "      <td>513</td>\n",
              "      <td>children</td>\n",
              "    </tr>\n",
              "  </tbody>\n",
              "</table>\n",
              "</div>\n",
              "      <button class=\"colab-df-convert\" onclick=\"convertToInteractive('df-eeba4488-2998-462b-9c74-6513617415d4')\"\n",
              "              title=\"Convert this dataframe to an interactive table.\"\n",
              "              style=\"display:none;\">\n",
              "        \n",
              "  <svg xmlns=\"http://www.w3.org/2000/svg\" height=\"24px\"viewBox=\"0 0 24 24\"\n",
              "       width=\"24px\">\n",
              "    <path d=\"M0 0h24v24H0V0z\" fill=\"none\"/>\n",
              "    <path d=\"M18.56 5.44l.94 2.06.94-2.06 2.06-.94-2.06-.94-.94-2.06-.94 2.06-2.06.94zm-11 1L8.5 8.5l.94-2.06 2.06-.94-2.06-.94L8.5 2.5l-.94 2.06-2.06.94zm10 10l.94 2.06.94-2.06 2.06-.94-2.06-.94-.94-2.06-.94 2.06-2.06.94z\"/><path d=\"M17.41 7.96l-1.37-1.37c-.4-.4-.92-.59-1.43-.59-.52 0-1.04.2-1.43.59L10.3 9.45l-7.72 7.72c-.78.78-.78 2.05 0 2.83L4 21.41c.39.39.9.59 1.41.59.51 0 1.02-.2 1.41-.59l7.78-7.78 2.81-2.81c.8-.78.8-2.07 0-2.86zM5.41 20L4 18.59l7.72-7.72 1.47 1.35L5.41 20z\"/>\n",
              "  </svg>\n",
              "      </button>\n",
              "      \n",
              "  <style>\n",
              "    .colab-df-container {\n",
              "      display:flex;\n",
              "      flex-wrap:wrap;\n",
              "      gap: 12px;\n",
              "    }\n",
              "\n",
              "    .colab-df-convert {\n",
              "      background-color: #E8F0FE;\n",
              "      border: none;\n",
              "      border-radius: 50%;\n",
              "      cursor: pointer;\n",
              "      display: none;\n",
              "      fill: #1967D2;\n",
              "      height: 32px;\n",
              "      padding: 0 0 0 0;\n",
              "      width: 32px;\n",
              "    }\n",
              "\n",
              "    .colab-df-convert:hover {\n",
              "      background-color: #E2EBFA;\n",
              "      box-shadow: 0px 1px 2px rgba(60, 64, 67, 0.3), 0px 1px 3px 1px rgba(60, 64, 67, 0.15);\n",
              "      fill: #174EA6;\n",
              "    }\n",
              "\n",
              "    [theme=dark] .colab-df-convert {\n",
              "      background-color: #3B4455;\n",
              "      fill: #D2E3FC;\n",
              "    }\n",
              "\n",
              "    [theme=dark] .colab-df-convert:hover {\n",
              "      background-color: #434B5C;\n",
              "      box-shadow: 0px 1px 3px 1px rgba(0, 0, 0, 0.15);\n",
              "      filter: drop-shadow(0px 1px 2px rgba(0, 0, 0, 0.3));\n",
              "      fill: #FFFFFF;\n",
              "    }\n",
              "  </style>\n",
              "\n",
              "      <script>\n",
              "        const buttonEl =\n",
              "          document.querySelector('#df-eeba4488-2998-462b-9c74-6513617415d4 button.colab-df-convert');\n",
              "        buttonEl.style.display =\n",
              "          google.colab.kernel.accessAllowed ? 'block' : 'none';\n",
              "\n",
              "        async function convertToInteractive(key) {\n",
              "          const element = document.querySelector('#df-eeba4488-2998-462b-9c74-6513617415d4');\n",
              "          const dataTable =\n",
              "            await google.colab.kernel.invokeFunction('convertToInteractive',\n",
              "                                                     [key], {});\n",
              "          if (!dataTable) return;\n",
              "\n",
              "          const docLinkHtml = 'Like what you see? Visit the ' +\n",
              "            '<a target=\"_blank\" href=https://colab.research.google.com/notebooks/data_table.ipynb>data table notebook</a>'\n",
              "            + ' to learn more about interactive tables.';\n",
              "          element.innerHTML = '';\n",
              "          dataTable['output_type'] = 'display_data';\n",
              "          await google.colab.output.renderOutput(dataTable, element);\n",
              "          const docLink = document.createElement('div');\n",
              "          docLink.innerHTML = docLinkHtml;\n",
              "          element.appendChild(docLink);\n",
              "        }\n",
              "      </script>\n",
              "    </div>\n",
              "  </div>\n",
              "  "
            ],
            "application/vnd.google.colaboratory.module+javascript": "\n      import \"https://ssl.gstatic.com/colaboratory/data_table/99dac6621f6ae8c4/data_table.js\";\n\n      window.createDataTable({\n        data: [[{\n            'v': 0,\n            'f': \"0\",\n        },\n{\n            'v': 1679,\n            'f': \"1679\",\n        },\n\"adults\"],\n [{\n            'v': 1,\n            'f': \"1\",\n        },\n{\n            'v': 513,\n            'f': \"513\",\n        },\n\"children\"]],\n        columns: [[\"number\", \"index\"], [\"number\", \"Number of attacks\"], [\"string\", \"Age\"]],\n        columnOptions: [{\"width\": \"1px\", \"className\": \"index_column\"}],\n        rowsPerPage: 25,\n        helpUrl: \"https://colab.research.google.com/notebooks/data_table.ipynb\",\n        suppressOutputScrolling: true,\n        minimumWidth: undefined,\n      });\n    "
          },
          "metadata": {},
          "execution_count": 17
        }
      ]
    },
    {
      "cell_type": "code",
      "source": [
        "plot_data(risks,\"Age\",\"Number of attacks\",\"Number of attacked persons\",\"Yearly attacks on adults vs children\")"
      ],
      "metadata": {
        "colab": {
          "base_uri": "https://localhost:8080/",
          "height": 241
        },
        "id": "41BiEqhEsLh3",
        "outputId": "ad508b94-5aff-486d-c6d0-93837c58d82c"
      },
      "execution_count": 18,
      "outputs": [
        {
          "output_type": "display_data",
          "data": {
            "text/plain": [
              "<Figure size 1080x216 with 1 Axes>"
            ],
            "image/png": "[encoded data removed]"
          },
          "metadata": {
            "needs_background": "light"
          }
        }
      ]
    },
    {
      "cell_type": "code",
      "source": [
        "plot_valuecounts(age_risk,\"Age\",\"Yearly attacks on adults vs children\", \"Number of attacked persons\")"
      ],
      "metadata": {
        "colab": {
          "base_uri": "https://localhost:8080/",
          "height": 326
        },
        "id": "c64XYLTXXzZR",
        "outputId": "30971967-8aa6-4959-a404-27e7baec2718"
      },
      "execution_count": 19,
      "outputs": [
        {
          "output_type": "display_data",
          "data": {
            "text/plain": [
              "<Figure size 432x288 with 1 Axes>"
            ],
            "image/png": "[encoded data removed]"
          },
          "metadata": {
            "needs_background": "light"
          }
        }
      ]
    },
    {
      "cell_type": "markdown",
      "source": [
        "#Vraag: zijn aanvallen waarin haaien geprovoceerd worden gevaarlijker of niet"
      ],
      "metadata": {
        "id": "WUwBwN7M0_JU"
      }
    },
    {
      "cell_type": "code",
      "source": [
        "# maak df met daarin type (geprovoceerd), injury en fatal\n",
        "interaction=df1.loc[:,[\"Type\",\"Fatal (Y/N)\"]]   # \"Injury\" eruit gehaald. Deze kolom is moeilijk te beoordelen\n",
        "interaction.head(1)"
      ],
      "metadata": {
        "colab": {
          "base_uri": "https://localhost:8080/",
          "height": 114
        },
        "id": "TzG1j2gZZt8d",
        "outputId": "eedf1add-2825-44fa-ee4f-08ee5299d8ce"
      },
      "execution_count": 20,
      "outputs": [
        {
          "output_type": "execute_result",
          "data": {
            "text/plain": [
              "      Type Fatal (Y/N)\n",
              "0  Boating           N"
            ],
            "text/html": [
              "\n",
              "  <div id=\"df-f8e032d9-382e-4e3a-9dec-fef87ee1c840\">\n",
              "    <div class=\"colab-df-container\">\n",
              "      <div>\n",
              "<style scoped>\n",
              "    .dataframe tbody tr th:only-of-type {\n",
              "        vertical-align: middle;\n",
              "    }\n",
              "\n",
              "    .dataframe tbody tr th {\n",
              "        vertical-align: top;\n",
              "    }\n",
              "\n",
              "    .dataframe thead th {\n",
              "        text-align: right;\n",
              "    }\n",
              "</style>\n",
              "<table border=\"1\" class=\"dataframe\">\n",
              "  <thead>\n",
              "    <tr style=\"text-align: right;\">\n",
              "      <th></th>\n",
              "      <th>Type</th>\n",
              "      <th>Fatal (Y/N)</th>\n",
              "    </tr>\n",
              "  </thead>\n",
              "  <tbody>\n",
              "    <tr>\n",
              "      <th>0</th>\n",
              "      <td>Boating</td>\n",
              "      <td>N</td>\n",
              "    </tr>\n",
              "  </tbody>\n",
              "</table>\n",
              "</div>\n",
              "      <button class=\"colab-df-convert\" onclick=\"convertToInteractive('df-f8e032d9-382e-4e3a-9dec-fef87ee1c840')\"\n",
              "              title=\"Convert this dataframe to an interactive table.\"\n",
              "              style=\"display:none;\">\n",
              "        \n",
              "  <svg xmlns=\"http://www.w3.org/2000/svg\" height=\"24px\"viewBox=\"0 0 24 24\"\n",
              "       width=\"24px\">\n",
              "    <path d=\"M0 0h24v24H0V0z\" fill=\"none\"/>\n",
              "    <path d=\"M18.56 5.44l.94 2.06.94-2.06 2.06-.94-2.06-.94-.94-2.06-.94 2.06-2.06.94zm-11 1L8.5 8.5l.94-2.06 2.06-.94-2.06-.94L8.5 2.5l-.94 2.06-2.06.94zm10 10l.94 2.06.94-2.06 2.06-.94-2.06-.94-.94-2.06-.94 2.06-2.06.94z\"/><path d=\"M17.41 7.96l-1.37-1.37c-.4-.4-.92-.59-1.43-.59-.52 0-1.04.2-1.43.59L10.3 9.45l-7.72 7.72c-.78.78-.78 2.05 0 2.83L4 21.41c.39.39.9.59 1.41.59.51 0 1.02-.2 1.41-.59l7.78-7.78 2.81-2.81c.8-.78.8-2.07 0-2.86zM5.41 20L4 18.59l7.72-7.72 1.47 1.35L5.41 20z\"/>\n",
              "  </svg>\n",
              "      </button>\n",
              "      \n",
              "  <style>\n",
              "    .colab-df-container {\n",
              "      display:flex;\n",
              "      flex-wrap:wrap;\n",
              "      gap: 12px;\n",
              "    }\n",
              "\n",
              "    .colab-df-convert {\n",
              "      background-color: #E8F0FE;\n",
              "      border: none;\n",
              "      border-radius: 50%;\n",
              "      cursor: pointer;\n",
              "      display: none;\n",
              "      fill: #1967D2;\n",
              "      height: 32px;\n",
              "      padding: 0 0 0 0;\n",
              "      width: 32px;\n",
              "    }\n",
              "\n",
              "    .colab-df-convert:hover {\n",
              "      background-color: #E2EBFA;\n",
              "      box-shadow: 0px 1px 2px rgba(60, 64, 67, 0.3), 0px 1px 3px 1px rgba(60, 64, 67, 0.15);\n",
              "      fill: #174EA6;\n",
              "    }\n",
              "\n",
              "    [theme=dark] .colab-df-convert {\n",
              "      background-color: #3B4455;\n",
              "      fill: #D2E3FC;\n",
              "    }\n",
              "\n",
              "    [theme=dark] .colab-df-convert:hover {\n",
              "      background-color: #434B5C;\n",
              "      box-shadow: 0px 1px 3px 1px rgba(0, 0, 0, 0.15);\n",
              "      filter: drop-shadow(0px 1px 2px rgba(0, 0, 0, 0.3));\n",
              "      fill: #FFFFFF;\n",
              "    }\n",
              "  </style>\n",
              "\n",
              "      <script>\n",
              "        const buttonEl =\n",
              "          document.querySelector('#df-f8e032d9-382e-4e3a-9dec-fef87ee1c840 button.colab-df-convert');\n",
              "        buttonEl.style.display =\n",
              "          google.colab.kernel.accessAllowed ? 'block' : 'none';\n",
              "\n",
              "        async function convertToInteractive(key) {\n",
              "          const element = document.querySelector('#df-f8e032d9-382e-4e3a-9dec-fef87ee1c840');\n",
              "          const dataTable =\n",
              "            await google.colab.kernel.invokeFunction('convertToInteractive',\n",
              "                                                     [key], {});\n",
              "          if (!dataTable) return;\n",
              "\n",
              "          const docLinkHtml = 'Like what you see? Visit the ' +\n",
              "            '<a target=\"_blank\" href=https://colab.research.google.com/notebooks/data_table.ipynb>data table notebook</a>'\n",
              "            + ' to learn more about interactive tables.';\n",
              "          element.innerHTML = '';\n",
              "          dataTable['output_type'] = 'display_data';\n",
              "          await google.colab.output.renderOutput(dataTable, element);\n",
              "          const docLink = document.createElement('div');\n",
              "          docLink.innerHTML = docLinkHtml;\n",
              "          element.appendChild(docLink);\n",
              "        }\n",
              "      </script>\n",
              "    </div>\n",
              "  </div>\n",
              "  "
            ],
            "application/vnd.google.colaboratory.module+javascript": "\n      import \"https://ssl.gstatic.com/colaboratory/data_table/99dac6621f6ae8c4/data_table.js\";\n\n      window.createDataTable({\n        data: [[{\n            'v': 0,\n            'f': \"0\",\n        },\n\"Boating\",\n\"N\"]],\n        columns: [[\"number\", \"index\"], [\"string\", \"Type\"], [\"string\", \"Fatal (Y/N)\"]],\n        columnOptions: [{\"width\": \"1px\", \"className\": \"index_column\"}],\n        rowsPerPage: 25,\n        helpUrl: \"https://colab.research.google.com/notebooks/data_table.ipynb\",\n        suppressOutputScrolling: true,\n        minimumWidth: undefined,\n      });\n    "
          },
          "metadata": {},
          "execution_count": 20
        }
      ]
    },
    {
      "cell_type": "code",
      "source": [
        "#bekijk_dataoverzicht(interaction,\"Type\",str)"
      ],
      "metadata": {
        "id": "ySiDqhdMa7T6"
      },
      "execution_count": 21,
      "outputs": []
    },
    {
      "cell_type": "code",
      "source": [
        "# vervangen of verwijderen van ongeldige waardes in Type\n",
        "interaction[\"Type\"].replace(\"Invalid\",np.nan,inplace=True)\n",
        "interaction[\"Type\"].replace(\"Questionable\",np.nan,inplace=True)\n",
        "interaction[\"Type\"].replace(\"Sea Disaster\",np.nan,inplace=True)\n",
        "interaction[\"Type\"].replace(\"Boating\",\"Unprovoked\",inplace=True)\n",
        "interaction[\"Type\"].replace(\"Boat\",\"Unprovoked\",inplace=True)\n",
        "interaction[\"Type\"].replace(\"unprovoked\",\"Unprovoked\",inplace=True)\n",
        "\n",
        "interaction.dropna(subset=[\"Type\"],inplace=True)\n",
        "#bekijk_dataoverzicht(interaction,\"Type\",str)\n",
        "\n",
        "# verwijderen ongeldige waardes in Fatal\n",
        "interaction[\"Fatal (Y/N)\"].replace(\"UNKNOWN\",np.nan,inplace=True)\n",
        "interaction[\"Fatal (Y/N)\"].replace(\"M\",np.nan,inplace=True)\n",
        "interaction[\"Fatal (Y/N)\"].replace(\"2017\",np.nan,inplace=True)\n",
        "interaction[\"Fatal (Y/N)\"].replace(\" N\",\"N\",inplace=True)\n",
        "\n",
        "interaction.dropna(subset=[\"Fatal (Y/N)\"],inplace=True)\n",
        "#bekijk_dataoverzicht(interaction,\"Fatal (Y/N)\",str)"
      ],
      "metadata": {
        "id": "iGczwPd1bQLC"
      },
      "execution_count": 22,
      "outputs": []
    },
    {
      "cell_type": "code",
      "source": [
        "# percentage survivors per type interactie bepalen\n",
        "Prov_surv=len(interaction.loc[((interaction[\"Type\"]==\"Provoked\") & (interaction[\"Fatal (Y/N)\"]==\"N\")), \"Type\"])\n",
        "Prov_died=len(interaction.loc[((interaction[\"Type\"]==\"Provoked\") & (interaction[\"Fatal (Y/N)\"]==\"Y\")), \"Type\"])\n",
        "Unprov_surv=len(interaction.loc[((interaction[\"Type\"]==\"Unprovoked\") & (interaction[\"Fatal (Y/N)\"]==\"N\")), \"Type\"])\n",
        "Unprov_died=len(interaction.loc[((interaction[\"Type\"]==\"Unprovoked\") & (interaction[\"Fatal (Y/N)\"]==\"Y\")), \"Type\"])\n",
        "\n",
        "Provoked_percentage_survived=Prov_surv/(Prov_surv +Prov_died)*100\n",
        "Unprovoked_percentage_survived=Unprov_surv/(Unprov_surv+Unprov_died)*100\n",
        "#display(Prov_surv,Prov_died,Unprov_surv,Unprov_died) 400 vd 407 overleven bij geprovoceerd vs   2077 vd 2470 bij ongeprovoceerd\n",
        "\n",
        "#maak een nieuw dataframe voor het % fatale incidenten\n",
        "prov=pd.DataFrame(columns=[\"Provokation type\",\"Percentage survivors\"])\n",
        "#data toevoegen\n",
        "prov=prov.append({\"Provokation type\": \"Unprovoked\",\"Percentage survivors\": Unprovoked_percentage_survived },ignore_index=True)\n",
        "prov=prov.append({\"Provokation type\": \"Provoked\",\"Percentage survivors\": Provoked_percentage_survived },ignore_index=True)\n",
        "prov"
      ],
      "metadata": {
        "colab": {
          "base_uri": "https://localhost:8080/",
          "height": 135
        },
        "id": "gDU2JY91htAU",
        "outputId": "880febf3-09e6-43a2-eb78-34e3499031ae"
      },
      "execution_count": 23,
      "outputs": [
        {
          "output_type": "execute_result",
          "data": {
            "text/plain": [
              "  Provokation type  Percentage survivors\n",
              "0       Unprovoked             84.089069\n",
              "1         Provoked             98.280098"
            ],
            "text/html": [
              "\n",
              "  <div id=\"df-e65402ef-d3d3-4524-8c0e-0b085058169c\">\n",
              "    <div class=\"colab-df-container\">\n",
              "      <div>\n",
              "<style scoped>\n",
              "    .dataframe tbody tr th:only-of-type {\n",
              "        vertical-align: middle;\n",
              "    }\n",
              "\n",
              "    .dataframe tbody tr th {\n",
              "        vertical-align: top;\n",
              "    }\n",
              "\n",
              "    .dataframe thead th {\n",
              "        text-align: right;\n",
              "    }\n",
              "</style>\n",
              "<table border=\"1\" class=\"dataframe\">\n",
              "  <thead>\n",
              "    <tr style=\"text-align: right;\">\n",
              "      <th></th>\n",
              "      <th>Provokation type</th>\n",
              "      <th>Percentage survivors</th>\n",
              "    </tr>\n",
              "  </thead>\n",
              "  <tbody>\n",
              "    <tr>\n",
              "      <th>0</th>\n",
              "      <td>Unprovoked</td>\n",
              "      <td>84.089069</td>\n",
              "    </tr>\n",
              "    <tr>\n",
              "      <th>1</th>\n",
              "      <td>Provoked</td>\n",
              "      <td>98.280098</td>\n",
              "    </tr>\n",
              "  </tbody>\n",
              "</table>\n",
              "</div>\n",
              "      <button class=\"colab-df-convert\" onclick=\"convertToInteractive('df-e65402ef-d3d3-4524-8c0e-0b085058169c')\"\n",
              "              title=\"Convert this dataframe to an interactive table.\"\n",
              "              style=\"display:none;\">\n",
              "        \n",
              "  <svg xmlns=\"http://www.w3.org/2000/svg\" height=\"24px\"viewBox=\"0 0 24 24\"\n",
              "       width=\"24px\">\n",
              "    <path d=\"M0 0h24v24H0V0z\" fill=\"none\"/>\n",
              "    <path d=\"M18.56 5.44l.94 2.06.94-2.06 2.06-.94-2.06-.94-.94-2.06-.94 2.06-2.06.94zm-11 1L8.5 8.5l.94-2.06 2.06-.94-2.06-.94L8.5 2.5l-.94 2.06-2.06.94zm10 10l.94 2.06.94-2.06 2.06-.94-2.06-.94-.94-2.06-.94 2.06-2.06.94z\"/><path d=\"M17.41 7.96l-1.37-1.37c-.4-.4-.92-.59-1.43-.59-.52 0-1.04.2-1.43.59L10.3 9.45l-7.72 7.72c-.78.78-.78 2.05 0 2.83L4 21.41c.39.39.9.59 1.41.59.51 0 1.02-.2 1.41-.59l7.78-7.78 2.81-2.81c.8-.78.8-2.07 0-2.86zM5.41 20L4 18.59l7.72-7.72 1.47 1.35L5.41 20z\"/>\n",
              "  </svg>\n",
              "      </button>\n",
              "      \n",
              "  <style>\n",
              "    .colab-df-container {\n",
              "      display:flex;\n",
              "      flex-wrap:wrap;\n",
              "      gap: 12px;\n",
              "    }\n",
              "\n",
              "    .colab-df-convert {\n",
              "      background-color: #E8F0FE;\n",
              "      border: none;\n",
              "      border-radius: 50%;\n",
              "      cursor: pointer;\n",
              "      display: none;\n",
              "      fill: #1967D2;\n",
              "      height: 32px;\n",
              "      padding: 0 0 0 0;\n",
              "      width: 32px;\n",
              "    }\n",
              "\n",
              "    .colab-df-convert:hover {\n",
              "      background-color: #E2EBFA;\n",
              "      box-shadow: 0px 1px 2px rgba(60, 64, 67, 0.3), 0px 1px 3px 1px rgba(60, 64, 67, 0.15);\n",
              "      fill: #174EA6;\n",
              "    }\n",
              "\n",
              "    [theme=dark] .colab-df-convert {\n",
              "      background-color: #3B4455;\n",
              "      fill: #D2E3FC;\n",
              "    }\n",
              "\n",
              "    [theme=dark] .colab-df-convert:hover {\n",
              "      background-color: #434B5C;\n",
              "      box-shadow: 0px 1px 3px 1px rgba(0, 0, 0, 0.15);\n",
              "      filter: drop-shadow(0px 1px 2px rgba(0, 0, 0, 0.3));\n",
              "      fill: #FFFFFF;\n",
              "    }\n",
              "  </style>\n",
              "\n",
              "      <script>\n",
              "        const buttonEl =\n",
              "          document.querySelector('#df-e65402ef-d3d3-4524-8c0e-0b085058169c button.colab-df-convert');\n",
              "        buttonEl.style.display =\n",
              "          google.colab.kernel.accessAllowed ? 'block' : 'none';\n",
              "\n",
              "        async function convertToInteractive(key) {\n",
              "          const element = document.querySelector('#df-e65402ef-d3d3-4524-8c0e-0b085058169c');\n",
              "          const dataTable =\n",
              "            await google.colab.kernel.invokeFunction('convertToInteractive',\n",
              "                                                     [key], {});\n",
              "          if (!dataTable) return;\n",
              "\n",
              "          const docLinkHtml = 'Like what you see? Visit the ' +\n",
              "            '<a target=\"_blank\" href=https://colab.research.google.com/notebooks/data_table.ipynb>data table notebook</a>'\n",
              "            + ' to learn more about interactive tables.';\n",
              "          element.innerHTML = '';\n",
              "          dataTable['output_type'] = 'display_data';\n",
              "          await google.colab.output.renderOutput(dataTable, element);\n",
              "          const docLink = document.createElement('div');\n",
              "          docLink.innerHTML = docLinkHtml;\n",
              "          element.appendChild(docLink);\n",
              "        }\n",
              "      </script>\n",
              "    </div>\n",
              "  </div>\n",
              "  "
            ],
            "application/vnd.google.colaboratory.module+javascript": "\n      import \"https://ssl.gstatic.com/colaboratory/data_table/99dac6621f6ae8c4/data_table.js\";\n\n      window.createDataTable({\n        data: [[{\n            'v': 0,\n            'f': \"0\",\n        },\n\"Unprovoked\",\n{\n            'v': 84.08906882591093,\n            'f': \"84.08906882591093\",\n        }],\n [{\n            'v': 1,\n            'f': \"1\",\n        },\n\"Provoked\",\n{\n            'v': 98.28009828009829,\n            'f': \"98.28009828009829\",\n        }]],\n        columns: [[\"number\", \"index\"], [\"string\", \"Provokation type\"], [\"number\", \"Percentage survivors\"]],\n        columnOptions: [{\"width\": \"1px\", \"className\": \"index_column\"}],\n        rowsPerPage: 25,\n        helpUrl: \"https://colab.research.google.com/notebooks/data_table.ipynb\",\n        suppressOutputScrolling: true,\n        minimumWidth: undefined,\n      });\n    "
          },
          "metadata": {},
          "execution_count": 23
        }
      ]
    },
    {
      "cell_type": "code",
      "source": [
        "plot_valuecounts(interaction,\"Type\", \"Severity of shark attacks in provoked vs unprovoked accidents\", \" # fatal incidents\")"
      ],
      "metadata": {
        "colab": {
          "base_uri": "https://localhost:8080/",
          "height": 399
        },
        "id": "zVabGQ0he7gh",
        "outputId": "f3a796cc-6f2a-43c3-b90b-bdd87be00a45"
      },
      "execution_count": 39,
      "outputs": [
        {
          "output_type": "display_data",
          "data": {
            "text/plain": [
              "<Figure size 720x360 with 1 Axes>"
            ],
            "image/png": "[encoded data removed]"
          },
          "metadata": {
            "needs_background": "light"
          }
        }
      ]
    },
    {
      "cell_type": "code",
      "source": [
        "plot_data(prov,\"Provokation type\",\"Percentage survivors\",\"Survival percentage after attack\",\"Shark attack survival in relation to provocation\")"
      ],
      "metadata": {
        "colab": {
          "base_uri": "https://localhost:8080/",
          "height": 241
        },
        "id": "ZTClDn0Vs2M8",
        "outputId": "1e8cb446-e976-474c-d1fa-4aa67f9d7d07"
      },
      "execution_count": 25,
      "outputs": [
        {
          "output_type": "display_data",
          "data": {
            "text/plain": [
              "<Figure size 1080x216 with 1 Axes>"
            ],
            "image/png": "[encoded data removed]"
          },
          "metadata": {
            "needs_background": "light"
          }
        }
      ]
    },
    {
      "cell_type": "markdown",
      "source": [],
      "metadata": {
        "id": "6PDnOWCTs2Am"
      }
    },
    {
      "cell_type": "markdown",
      "source": [
        "#Vraag: zijn bepaalde activiteiten gevoeliger voor het uitlokken van een aanval"
      ],
      "metadata": {
        "id": "wk0vhd5w0-zM"
      }
    },
    {
      "cell_type": "code",
      "source": [
        "# gebruik de kolommen activity en het aantal incidenten. Fataal of niet maakt niet uit\n",
        "act=df1.loc[:,[\"Activity\"]]"
      ],
      "metadata": {
        "id": "n1lCYROCzZF9"
      },
      "execution_count": 26,
      "outputs": []
    },
    {
      "cell_type": "code",
      "source": [
        "#bekijk_dataoverzicht(act,\"Activity\",str)"
      ],
      "metadata": {
        "id": "xycn26ryz3NZ"
      },
      "execution_count": null,
      "outputs": []
    },
    {
      "cell_type": "code",
      "source": [
        "# trefwoordenlijst samenstellen\n",
        "activiteiten=['paddling','swimming','surfing','bathing','floating','fishing', 'wading','bodyboarding', \n",
        "              'spearfishing','diving', 'snorkeling', 'skiing','disaster','boating', 'snorkeling',\"canoeing\"] \n",
        "disaster=[\"torpedoed\", \"sunk\",\"sank\",\"capsized\",\"accident\",\"wrecked\",\"abducted\",\"plinged\",\"foundered\", \"plunged\",\n",
        "          \"sinking\", 'air','burning','ditched','broke','wreck','plane','submerged',\"swamped\",\"collision\"]\n",
        "boating=[\"raft\",\"adrift\",\"yachting\",\"paddling\",\"boat\",\"zodiac\",\"dinghy\"]   \n",
        "hunting_shark=[\"hooked shark\",\"kill a shark\", \"anesthetize shark\", \"net shark\", \"lasso\",\"catching sharks\", \n",
        "               \"killing sharks\",\"kill a shark\",\"killing a shark\",\"netted shark\",\"wrangling a shark\"]    \n",
        "feeding_sharks=[\"chumming\",\"feeding\"] \n",
        "disturbing_sharks=[\"grabbing shark\",\"tagging sharks\",\"Teasing a shark\",\"Petting a shark\", \"pulling shark\", \"picking up shark\"]\n",
        "\n",
        "alles= activiteiten + disaster +boating + hunting_shark + feeding_sharks +disturbing_sharks\n",
        "\n",
        "\n",
        "\n",
        "for activiteit in alles:\n",
        "  if activiteit in activiteiten:\n",
        "    act.loc[( (act[\"Activity\"].str.lower().str.contains(activiteit)) & (~act['Activity'].isna())), \"Activity\"]=f\"{activiteit}\"\n",
        "  elif activiteit in disaster:\n",
        "    act.loc[( (act[\"Activity\"].str.lower().str.contains(activiteit)) & (~act['Activity'].isna())), \"Activity\"]=\"disaster\"\n",
        "  elif activiteit in hunting_shark: \n",
        "    act.loc[( (act[\"Activity\"].str.lower().str.contains(activiteit)) & (~act['Activity'].isna())), \"Activity\"]=\"shark hunting\" \n",
        "  elif activiteit in feeding_sharks: \n",
        "    act.loc[( (act[\"Activity\"].str.lower().str.contains(activiteit)) & (~act['Activity'].isna())), \"Activity\"]=\"shark feeding\" \n",
        "  elif activiteit in disturbing_sharks: \n",
        "    act.loc[( (act[\"Activity\"].str.lower().str.contains(activiteit)) & (~act['Activity'].isna())), \"Activity\"]=\"disturbing sharks\"\n",
        "  else:\n",
        "    act.loc[( (act[\"Activity\"].str.lower().str.contains(activiteit)) & (~act['Activity'].isna())), \"Activity\"]=\"boating\"\n",
        "\n",
        "#replacements \n",
        "act.loc[( (act[\"Activity\"].str.lower().str.contains(\"board\")) & (~act['Activity'].isna())), \"Activity\"]=\"bodyboarding\"\n",
        "act.loc[( (act[\"Activity\"].str.lower().str.contains(\"netting\")) & (~act['Activity'].isna())), \"Activity\"]=\"hunting sharks\"\n",
        "act.loc[( (act[\"Activity\"].str.lower().str.contains(\"hooked shark\")) & (~act['Activity'].isna())), \"Activity\"]=\"hunting sharks\"\n",
        "act.loc[( (act[\"Activity\"].str.lower().str.contains(\"sitting\")) & (~act['Activity'].isna())), \"Activity\"]=\"wading\"\n",
        "act.loc[( (act[\"Activity\"].str.lower().str.contains(\"walking\")) & (~act['Activity'].isna())), \"Activity\"]=\"wading\"\n",
        "act.loc[( (act[\"Activity\"].str.lower().str.contains(\"dive\")) & (~act['Activity'].isna())), \"Activity\"]=\"diving\"\n",
        "act.loc[( (act[\"Activity\"].str.lower().str.contains(\"swim\")) & (~act['Activity'].isna())), \"Activity\"]=\"swimming\"\n",
        "act.loc[( (act[\"Activity\"].str.lower().str.contains(\"kayaking\")) & (~act['Activity'].isna())), \"Activity\"]=\"canoeing\"\n",
        "act.loc[( (act[\"Activity\"].str.lower().str.contains(\"fish\")) & (~act['Activity'].isna())), \"Activity\"]=\"fishing\"\n",
        "act[\"Activity\"].replace(\".\", np.nan,inplace=True)\n",
        "\n",
        "#verwijder nan\n",
        "act.dropna(subset=[\"Activity\"],inplace=True)\n",
        "\n",
        "#bekijk_dataoverzicht(act,'Activity',str)"
      ],
      "metadata": {
        "id": "f2Bbtd3e0xv6"
      },
      "execution_count": null,
      "outputs": []
    },
    {
      "cell_type": "code",
      "source": [
        "plt.xlabel(\"Activity\")\n",
        "plt.ylabel(\"Number of attacks/year\")\n",
        "plt.title(f\"Shark attacks per year in relation to type of activity\")\n",
        "plt.rcParams[\"figure.figsize\"] = (10,5)\n",
        "act['Activity'].value_counts(sort=True).nlargest(10).plot(kind='bar')"
      ],
      "metadata": {
        "colab": {
          "base_uri": "https://localhost:8080/",
          "height": 427
        },
        "id": "dYrQ9yISaCEn",
        "outputId": "1801cce2-0b18-453a-9c01-e69e089d6c16"
      },
      "execution_count": 38,
      "outputs": [
        {
          "output_type": "execute_result",
          "data": {
            "text/plain": [
              "<AxesSubplot:title={'center':'Shark attacks per year in relation to type of activity'}, xlabel='Activity', ylabel='Number of attacks/year'>"
            ]
          },
          "metadata": {},
          "execution_count": 38
        },
        {
          "output_type": "display_data",
          "data": {
            "text/plain": [
              "<Figure size 720x360 with 1 Axes>"
            ],
            "image/png": "[encoded data removed]"
          },
          "metadata": {
            "needs_background": "light"
          }
        }
      ]
    },
    {
      "cell_type": "markdown",
      "source": [
        "Conclusie:\n",
        "\n",
        "\n",
        "1.   De Witte haai is verantwoordelijk voor de meeste doden, gevolgd door de Tijgerhaai en Stierhaai\n",
        "2.   Kinderen lopen niet meer risico dan volwassenen:\n",
        "De meeste slachtoffers zijn volwassenen, de aantallen kinderen en volwassenen die het water ingaan zijn niet bekend, dus of volwassenen ook relatief vaker aangevallen worden is niet bekend.\n",
        "3.   Provokatie leidt niet tot een hoger percentage aanvallen of doden:\n",
        "Het lijkt juist tot een wat lager percentage dodelijke ongevallen te leiden.\n",
        "4.   Qua activiteiten is vissen het meest gevaarlijk:\n",
        "Vissen leidt het vaakst tot een haaienaanval, gevolgd door surfen,zwemmen en duiken.\n",
        " \n",
        "\n"
      ],
      "metadata": {
        "id": "u7A7cQLPSHaN"
      }
    }
  ]
}