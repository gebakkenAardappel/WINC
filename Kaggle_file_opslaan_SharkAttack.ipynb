{
  "nbformat": 4,
  "nbformat_minor": 0,
  "metadata": {
    "colab": {
      "provenance": [],
      "authorship_tag": "ABX9TyMFct0PXubBIrBKHXBh/gZd",
      "include_colab_link": true
    },
    "kernelspec": {
      "name": "python3",
      "display_name": "Python 3"
    },
    "language_info": {
      "name": "python"
    }
  },
  "cells": [
    {
      "cell_type": "markdown",
      "metadata": {
        "id": "view-in-github",
        "colab_type": "text"
      },
      "source": [
        "<a href=\"https://colab.research.google.com/github/gebakkenAardappel/WINC/blob/main/Kaggle_file_opslaan_SharkAttack.ipynb\" target=\"_parent\"><img src=\"https://colab.research.google.com/assets/colab-badge.svg\" alt=\"Open In Colab\"/></a>"
      ]
    },
    {
      "cell_type": "code",
      "execution_count": null,
      "metadata": {
        "id": "CBsWRuU50nqd"
      },
      "outputs": [],
      "source": [
        "import numpy as np\n",
        "import pandas as pd"
      ]
    },
    {
      "cell_type": "markdown",
      "source": [
        "## Dataset importeren.\n",
        "Bij mij niet werkend: \n",
        "https://www.kaggle.com/datasets/felipeesc/shark-attack-dataset?select=attacks.csv  #de koppeling in de adresbalk\n",
        "of, wat volgens kaggle ook moet kunnen,rechtsklikken op de download knop en daar de url te kiezen: https://www.kaggle.com/datasets/felipeesc/shark-attack-dataset/download?datasetVersionNumber=1 # de koppeling die je krijgt bij rechtsklikken op download\n",
        "of inlezen vanaf de harde schijf na downloaden en unzippen vd file "
      ],
      "metadata": {
        "id": "cEdjwfGb08RW"
      }
    },
    {
      "cell_type": "code",
      "source": [
        "# Run this cell and select the kaggle.json file downloaded from the Kaggle account settings page.\n",
        "# JSON kun je in Kaggle downloaden onder account via new API key (oude even wissen). Hij vraagt hieronder bij bladeren om de locatie van de Kaggle.json download.\n",
        "from google.colab import files\n",
        "files.upload()"
      ],
      "metadata": {
        "colab": {
          "base_uri": "https://localhost:8080/",
          "height": 92
        },
        "id": "pt2qxRm8JaCs",
        "outputId": "2de0e447-658a-4599-bb9d-0334b7d45b5c"
      },
      "execution_count": null,
      "outputs": [
        {
          "output_type": "display_data",
          "data": {
            "text/plain": [
              "<IPython.core.display.HTML object>"
            ],
            "text/html": [
              "\n",
              "     <input type=\"file\" id=\"files-9e4e6114-6060-4ce6-ac28-2b6ffe505a26\" name=\"files[]\" multiple disabled\n",
              "        style=\"border:none\" />\n",
              "     <output id=\"result-9e4e6114-6060-4ce6-ac28-2b6ffe505a26\">\n",
              "      Upload widget is only available when the cell has been executed in the\n",
              "      current browser session. Please rerun this cell to enable.\n",
              "      </output>\n",
              "      <script>// Copyright 2017 Google LLC\n",
              "//\n",
              "// Licensed under the Apache License, Version 2.0 (the \"License\");\n",
              "// you may not use this file except in compliance with the License.\n",
              "// You may obtain a copy of the License at\n",
              "//\n",
              "//      http://www.apache.org/licenses/LICENSE-2.0\n",
              "//\n",
              "// Unless required by applicable law or agreed to in writing, software\n",
              "// distributed under the License is distributed on an \"AS IS\" BASIS,\n",
              "// WITHOUT WARRANTIES OR CONDITIONS OF ANY KIND, either express or implied.\n",
              "// See the License for the specific language governing permissions and\n",
              "// limitations under the License.\n",
              "\n",
              "/**\n",
              " * @fileoverview Helpers for google.colab Python module.\n",
              " */\n",
              "(function(scope) {\n",
              "function span(text, styleAttributes = {}) {\n",
              "  const element = document.createElement('span');\n",
              "  element.textContent = text;\n",
              "  for (const key of Object.keys(styleAttributes)) {\n",
              "    element.style[key] = styleAttributes[key];\n",
              "  }\n",
              "  return element;\n",
              "}\n",
              "\n",
              "// Max number of bytes which will be uploaded at a time.\n",
              "const MAX_PAYLOAD_SIZE = 100 * 1024;\n",
              "\n",
              "function _uploadFiles(inputId, outputId) {\n",
              "  const steps = uploadFilesStep(inputId, outputId);\n",
              "  const outputElement = document.getElementById(outputId);\n",
              "  // Cache steps on the outputElement to make it available for the next call\n",
              "  // to uploadFilesContinue from Python.\n",
              "  outputElement.steps = steps;\n",
              "\n",
              "  return _uploadFilesContinue(outputId);\n",
              "}\n",
              "\n",
              "// This is roughly an async generator (not supported in the browser yet),\n",
              "// where there are multiple asynchronous steps and the Python side is going\n",
              "// to poll for completion of each step.\n",
              "// This uses a Promise to block the python side on completion of each step,\n",
              "// then passes the result of the previous step as the input to the next step.\n",
              "function _uploadFilesContinue(outputId) {\n",
              "  const outputElement = document.getElementById(outputId);\n",
              "  const steps = outputElement.steps;\n",
              "\n",
              "  const next = steps.next(outputElement.lastPromiseValue);\n",
              "  return Promise.resolve(next.value.promise).then((value) => {\n",
              "    // Cache the last promise value to make it available to the next\n",
              "    // step of the generator.\n",
              "    outputElement.lastPromiseValue = value;\n",
              "    return next.value.response;\n",
              "  });\n",
              "}\n",
              "\n",
              "/**\n",
              " * Generator function which is called between each async step of the upload\n",
              " * process.\n",
              " * @param {string} inputId Element ID of the input file picker element.\n",
              " * @param {string} outputId Element ID of the output display.\n",
              " * @return {!Iterable<!Object>} Iterable of next steps.\n",
              " */\n",
              "function* uploadFilesStep(inputId, outputId) {\n",
              "  const inputElement = document.getElementById(inputId);\n",
              "  inputElement.disabled = false;\n",
              "\n",
              "  const outputElement = document.getElementById(outputId);\n",
              "  outputElement.innerHTML = '';\n",
              "\n",
              "  const pickedPromise = new Promise((resolve) => {\n",
              "    inputElement.addEventListener('change', (e) => {\n",
              "      resolve(e.target.files);\n",
              "    });\n",
              "  });\n",
              "\n",
              "  const cancel = document.createElement('button');\n",
              "  inputElement.parentElement.appendChild(cancel);\n",
              "  cancel.textContent = 'Cancel upload';\n",
              "  const cancelPromise = new Promise((resolve) => {\n",
              "    cancel.onclick = () => {\n",
              "      resolve(null);\n",
              "    };\n",
              "  });\n",
              "\n",
              "  // Wait for the user to pick the files.\n",
              "  const files = yield {\n",
              "    promise: Promise.race([pickedPromise, cancelPromise]),\n",
              "    response: {\n",
              "      action: 'starting',\n",
              "    }\n",
              "  };\n",
              "\n",
              "  cancel.remove();\n",
              "\n",
              "  // Disable the input element since further picks are not allowed.\n",
              "  inputElement.disabled = true;\n",
              "\n",
              "  if (!files) {\n",
              "    return {\n",
              "      response: {\n",
              "        action: 'complete',\n",
              "      }\n",
              "    };\n",
              "  }\n",
              "\n",
              "  for (const file of files) {\n",
              "    const li = document.createElement('li');\n",
              "    li.append(span(file.name, {fontWeight: 'bold'}));\n",
              "    li.append(span(\n",
              "        `(${file.type || 'n/a'}) - ${file.size} bytes, ` +\n",
              "        `last modified: ${\n",
              "            file.lastModifiedDate ? file.lastModifiedDate.toLocaleDateString() :\n",
              "                                    'n/a'} - `));\n",
              "    const percent = span('0% done');\n",
              "    li.appendChild(percent);\n",
              "\n",
              "    outputElement.appendChild(li);\n",
              "\n",
              "    const fileDataPromise = new Promise((resolve) => {\n",
              "      const reader = new FileReader();\n",
              "      reader.onload = (e) => {\n",
              "        resolve(e.target.result);\n",
              "      };\n",
              "      reader.readAsArrayBuffer(file);\n",
              "    });\n",
              "    // Wait for the data to be ready.\n",
              "    let fileData = yield {\n",
              "      promise: fileDataPromise,\n",
              "      response: {\n",
              "        action: 'continue',\n",
              "      }\n",
              "    };\n",
              "\n",
              "    // Use a chunked sending to avoid message size limits. See b/62115660.\n",
              "    let position = 0;\n",
              "    do {\n",
              "      const length = Math.min(fileData.byteLength - position, MAX_PAYLOAD_SIZE);\n",
              "      const chunk = new Uint8Array(fileData, position, length);\n",
              "      position += length;\n",
              "\n",
              "      const base64 = btoa(String.fromCharCode.apply(null, chunk));\n",
              "      yield {\n",
              "        response: {\n",
              "          action: 'append',\n",
              "          file: file.name,\n",
              "          data: base64,\n",
              "        },\n",
              "      };\n",
              "\n",
              "      let percentDone = fileData.byteLength === 0 ?\n",
              "          100 :\n",
              "          Math.round((position / fileData.byteLength) * 100);\n",
              "      percent.textContent = `${percentDone}% done`;\n",
              "\n",
              "    } while (position < fileData.byteLength);\n",
              "  }\n",
              "\n",
              "  // All done.\n",
              "  yield {\n",
              "    response: {\n",
              "      action: 'complete',\n",
              "    }\n",
              "  };\n",
              "}\n",
              "\n",
              "scope.google = scope.google || {};\n",
              "scope.google.colab = scope.google.colab || {};\n",
              "scope.google.colab._files = {\n",
              "  _uploadFiles,\n",
              "  _uploadFilesContinue,\n",
              "};\n",
              "})(self);\n",
              "</script> "
            ]
          },
          "metadata": {}
        },
        {
          "output_type": "stream",
          "name": "stdout",
          "text": [
            "Saving kaggle.json to kaggle.json\n"
          ]
        },
        {
          "output_type": "execute_result",
          "data": {
            "text/plain": [
              "{'kaggle.json': b'{\"username\":\"mharmpie\",\"key\":\"80038438c96fba29dc128e7531665f06\"}'}"
            ]
          },
          "metadata": {},
          "execution_count": 2
        }
      ]
    },
    {
      "cell_type": "code",
      "source": [
        "# Let's make sure the kaggle.json file is present. (even controleren of de file gevonden is)\n",
        "!ls -lha kaggle.json"
      ],
      "metadata": {
        "id": "_l9vTjj0KIDl",
        "colab": {
          "base_uri": "https://localhost:8080/"
        },
        "outputId": "8d23a936-3375-48e1-ff8b-34c889b7e029"
      },
      "execution_count": null,
      "outputs": [
        {
          "output_type": "stream",
          "name": "stdout",
          "text": [
            "-rw-r--r-- 1 root root 64 Mar  4 12:59 kaggle.json\n"
          ]
        }
      ]
    },
    {
      "cell_type": "code",
      "source": [
        "# Next, install the Kaggle API client.\n",
        "!pip install -q kaggle"
      ],
      "metadata": {
        "id": "usdEjVNZKPcZ"
      },
      "execution_count": null,
      "outputs": []
    },
    {
      "cell_type": "code",
      "source": [
        "# The Kaggle API client expects this file to be in ~/.kaggle, so move it there.\n",
        "!mkdir -p ~/.kaggle\n",
        "!cp kaggle.json ~/.kaggle/\n",
        "# This permissions change avoids a warning on Kaggle tool startup:\n",
        "!chmod 600 ~/.kaggle/kaggle.json"
      ],
      "metadata": {
        "id": "it-5turuKVlX"
      },
      "execution_count": null,
      "outputs": []
    },
    {
      "cell_type": "code",
      "source": [
        "# Laat de lijst zien van files waarin het woord shark voorkomt\n",
        "!kaggle datasets list -s shark"
      ],
      "metadata": {
        "id": "E13T5BWRMMpE",
        "colab": {
          "base_uri": "https://localhost:8080/"
        },
        "outputId": "1fb8a739-4d33-4acf-d336-7ed8acffa96c"
      },
      "execution_count": null,
      "outputs": [
        {
          "output_type": "stream",
          "name": "stdout",
          "text": [
            "Warning: Looks like you're using an outdated API Version, please consider updating (server 1.5.13 / client 1.5.12)\n",
            "ref                                                             title                                              size  lastUpdated          downloadCount  voteCount  usabilityRating  \n",
            "--------------------------------------------------------------  ------------------------------------------------  -----  -------------------  -------------  ---------  ---------------  \n",
            "anshulmehtakaggl/sharktankindia                                 Shark-Tank-India                                    3KB  2022-02-06 16:48:15           1010         71  1.0              \n",
            "shivavashishtha/shark-tank-india-dataset                        Shark Tank India Dataset                            4KB  2022-02-24 12:57:31           2525         77  1.0              \n",
            "teajay/global-shark-attacks                                     Global Shark Attacks                              548KB  2018-07-04 17:59:54           9734        147  0.5882353        \n",
            "felipeesc/shark-attack-dataset                                  Shark attack dataset                              555KB  2021-07-25 23:04:38           1829         44  0.9705882        \n",
            "larusso94/shark-species                                         Shark species                                     598MB  2020-10-30 21:22:41            523         25  0.875            \n",
            "mysarahmadbhat/shark-attacks                                    Shark Attacks                                     537KB  2021-08-09 17:30:46            819         17  0.9411765        \n",
            "thirumani/shark-tank-india                                      Shark Tank India dataset 🇮🇳                        18KB  2023-03-04 09:05:18            802         35  1.0              \n",
            "devanshu125/shark-tank-india-companies                          Shark Tank India Companies                          3KB  2022-02-05 14:37:54            448         30  1.0              \n",
            "thedevastator/shark-attacks-the-risks-of-coastal-water-activit  Shark Attacks (sharkattackfile.net)               544KB  2022-10-24 02:34:24           1409         37  1.0              \n",
            "thirumani/shark-tank-us-dataset                                 Shark Tank US dataset 🇺🇸                           53KB  2023-02-28 14:02:10            815         30  1.0              \n",
            "smitshah1701/sharktankindia                                     Shark Tank India Dataset                            5KB  2022-02-19 13:19:18            268         17  0.9411765        \n",
            "neiljs/all-shark-tank-us-pitches-deals                          All Shark Tank (US) pitches & deals                55KB  2017-08-28 20:37:19           1931         38  0.85294116       \n",
            "sinewaver/shark-tank-india-season-1-complete                    Shark Tank India Season 1 Complete - 36 episodes    5KB  2022-03-11 22:56:03            318         19  1.0              \n",
            "alinedebenath/global-shark-attacks                              Global Shark Attacks                              524KB  2019-12-06 11:26:36            649         13  0.7058824        \n",
            "jhonatanslopes/companies-invested-in-shark-tank-brazil          Companies Invested in Shark Tank Brazil             2KB  2022-11-14 13:58:08            364         28  1.0              \n",
            "ncsaayali/shark-attack-dataset                                  Shark attack dataset                                2MB  2021-02-11 19:20:09            567         14  0.8235294        \n",
            "rahulsathyajit/shark-tank-pitches                               Shark Tank Pitches                                 70KB  2017-12-19 04:09:51            648         14  0.7647059        \n",
            "parvthakkar/shark-tank-india                                    Shark Tank India                                    4KB  2022-02-16 05:57:16            196         10  0.88235295       \n",
            "dingo1694/shark-attack                                          Shark Attack                                       28KB  2018-02-20 04:39:26            714         12  0.5294118        \n",
            "sriomsubham/shark-tank-data-121pitches                          Shark Tank India Data 121 pitches                   5KB  2022-03-05 13:57:02            291         14  1.0              \n"
          ]
        }
      ]
    },
    {
      "cell_type": "code",
      "source": [
        "# Copy the data set locally: in dit geval gaat het om felipeesc/shark-attack-dataset (een zip file)\n",
        "!kaggle datasets download -d felipeesc/shark-attack-dataset"
      ],
      "metadata": {
        "id": "3aBSVsOGLB8F",
        "colab": {
          "base_uri": "https://localhost:8080/"
        },
        "outputId": "c5d5b190-e462-4109-c11d-6e57b1a32afd"
      },
      "execution_count": null,
      "outputs": [
        {
          "output_type": "stream",
          "name": "stdout",
          "text": [
            "Downloading shark-attack-dataset.zip to /content\n",
            "\r  0% 0.00/555k [00:00<?, ?B/s]\n",
            "\r100% 555k/555k [00:00<00:00, 85.7MB/s]\n"
          ]
        }
      ]
    },
    {
      "cell_type": "code",
      "source": [
        "!unzip shark-attack-dataset.zip"
      ],
      "metadata": {
        "id": "1mdDQjUNNIK0",
        "colab": {
          "base_uri": "https://localhost:8080/"
        },
        "outputId": "15747155-9c00-4f00-e938-8abc79133c34"
      },
      "execution_count": null,
      "outputs": [
        {
          "output_type": "stream",
          "name": "stdout",
          "text": [
            "Archive:  shark-attack-dataset.zip\n",
            "  inflating: attacks.csv             \n",
            "  inflating: list_coor_australia.csv  \n"
          ]
        }
      ]
    },
    {
      "cell_type": "code",
      "source": [
        "# bij de standaard tekenset geeft hij aan dat het geen utf-8 formaat is. cp1252 werkt wel\n",
        "df=pd.read_csv(\"attacks.csv\",low_memory=False,sep=\",\", encoding=\"cp1252\") "
      ],
      "metadata": {
        "id": "8qhJJpcFNhMj"
      },
      "execution_count": null,
      "outputs": []
    },
    {
      "cell_type": "code",
      "source": [
        "#besloten te kijken of ik de file kan downloaden, zodat ik niet iedere keer de json file opnieuw hoef in te laden als ik alles opnieuw wil laten draaien\n",
        "df_opslaan=pd.read_csv(\"attacks.csv\",low_memory=False,sep=\",\", encoding=\"latin-1\") \n",
        "df_opslaan.to_csv(\"shark_attack.csv\",encoding=\"utf-8-sig\")\n",
        "files.download(\"shark_attack.csv\")"
      ],
      "metadata": {
        "id": "_Gv5dOudtWBp"
      },
      "execution_count": null,
      "outputs": []
    }
  ]
}